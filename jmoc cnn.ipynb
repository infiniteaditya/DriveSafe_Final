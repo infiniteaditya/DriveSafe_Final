{
 "cells": [
  {
   "cell_type": "code",
   "execution_count": null,
   "metadata": {},
   "outputs": [],
   "source": [
    "import os\n",
    "import random\n",
    "import numpy as np\n",
    "import pandas as pd \n",
    "from skimage import io\n",
    "from skimage import color\n",
    "from PIL import Image\n",
    "from IPython.display import display\n",
    "import matplotlib.pyplot as plt\n",
    "import seaborn as sns\n",
    "from dask.array.image import imread\n",
    "from dask import bag, threaded\n",
    "from dask.diagnostics import ProgressBar\n",
    "import cv2\n",
    "from sklearn.model_selection import train_test_split\n",
    "import warnings\n",
    "warnings.filterwarnings(\"ignore\")\n",
    "\n",
    "\n",
    "\n",
    "import keras\n",
    "from keras.models import Sequential\n",
    "from keras.layers import Dense, Dropout, Flatten\n",
    "from keras.layers import Conv2D, MaxPooling2D\n",
    "from keras.utils import to_categorical\n",
    "from keras.preprocessing import image \n",
    "from keras.layers.normalization import BatchNormalization\n",
    "from keras import optimizers"
   ]
  },
  {
   "cell_type": "code",
   "execution_count": null,
   "metadata": {},
   "outputs": [],
   "source": [
    "from tensorflow.python.client import device_lib\n",
    "print(device_lib.list_local_devices())"
   ]
  },
  {
   "cell_type": "code",
   "execution_count": null,
   "metadata": {},
   "outputs": [],
   "source": [
    "f, ax = plt.subplots(1,10, figsize = (120,120))\n",
    "for i in range(10):\n",
    "    labels = imread(\"/home/jupyter/Images/train/c\"+str(i)+\"/*.jpg\")\n",
    "    for j in range(1):\n",
    "        img = labels[j]\n",
    "        label = i\n",
    "        ax[i].imshow(img)\n",
    "        ax[i].set_title('C'+str(i))\n",
    "        plt.show\n",
    "\n",
    "\n",
    "f, ax = plt.subplots(1,10, figsize = (120,120))\n",
    "for i in range(10):\n",
    "    labels = imread(\"/home/jupyter/Images/train/c\"+str(i)+\"/*.jpg\")\n",
    "    for j in range(1):\n",
    "        img = labels[j]\n",
    "        img = color.rgb2gray(img)\n",
    "        img = img[50:,120:-50]\n",
    "        label = i\n",
    "        ax[i].imshow(img,cmap='gray')\n",
    "        ax[i].set_title('C'+str(i))\n",
    "        plt.show"
   ]
  },
  {
   "cell_type": "code",
   "execution_count": null,
   "metadata": {},
   "outputs": [],
   "source": [
    "train_image = []\n",
    "image_label = []\n",
    "\n",
    "\n",
    "for i in range(10):\n",
    "    labels = imread(\"/home/jupyter/Images/train/c\"+str(i)+\"/*.jpg\")\n",
    "    for j in range(len(labels)):\n",
    "        img = labels[j]\n",
    "        img = color.rgb2gray(img)\n",
    "        img = img[50:,120:-50]\n",
    "        img = cv2.resize(img,(224,224))\n",
    "        label = i\n",
    "        train_image.append([img,label])\n",
    "        image_label.append(i)"
   ]
  },
  {
   "cell_type": "code",
   "execution_count": null,
   "metadata": {},
   "outputs": [],
   "source": [
    "import random\n",
    "random.shuffle(train_image)"
   ]
  },
  {
   "cell_type": "code",
   "execution_count": null,
   "metadata": {},
   "outputs": [],
   "source": [
    "X = []\n",
    "Y = []\n",
    "for features,labels in train_image:\n",
    "    X.append(features)\n",
    "    Y.append(labels)\n",
    "\n",
    "print (len(X), len(Y))"
   ]
  },
  {
   "cell_type": "code",
   "execution_count": null,
   "metadata": {},
   "outputs": [],
   "source": [
    "plt.imshow(X[5],cmap= 'gray')\n",
    "plt.show()\n",
    "print(Y[5])"
   ]
  },
  {
   "cell_type": "code",
   "execution_count": null,
   "metadata": {},
   "outputs": [],
   "source": [
    "X = np.array(X).reshape(-1,224,224,1)\n",
    "Y = to_categorical(Y)\n",
    "print (X.shape)"
   ]
  },
  {
   "cell_type": "code",
   "execution_count": null,
   "metadata": {},
   "outputs": [],
   "source": [
    "print(Y[5])"
   ]
  },
  {
   "cell_type": "code",
   "execution_count": null,
   "metadata": {},
   "outputs": [],
   "source": [
    "X_train, X_test, y_train, y_test = train_test_split(X, Y, random_state=42, test_size=0.2)"
   ]
  },
  {
   "cell_type": "code",
   "execution_count": null,
   "metadata": {},
   "outputs": [],
   "source": [
    "model = Sequential()\n",
    "\n",
    "model.add(Conv2D(32, kernel_size=(3, 3),activation='relu',input_shape=(224,224,1),padding = 'same'))\n",
    "model.add(BatchNormalization())\n",
    "\n",
    "model.add(MaxPooling2D(pool_size=(2, 2)))\n",
    "\n",
    "model.add(Conv2D(64,kernel_size = (3,3),activation = 'relu',padding = 'same'))\n",
    "model.add(BatchNormalization())\n",
    "\n",
    "model.add(Conv2D(64,kernel_size = (3,3),activation = 'relu',padding = 'same'))\n",
    "model.add(BatchNormalization())\n",
    "\n",
    "model.add(MaxPooling2D(pool_size=(2, 2)))\n",
    "\n",
    "model.add(Conv2D(128,kernel_size = (3,3),activation = 'relu',padding = 'same'))\n",
    "model.add(BatchNormalization())\n",
    "\n",
    "model.add(Flatten())\n",
    "\n",
    "model.add(Dense(128, activation = 'relu'))\n",
    "\n",
    "\n",
    "model.add(Dense(10, activation='softmax'))\n",
    "\n",
    "sgd = optimizers.SGD(lr = 0.001)\n",
    "model.compile(loss='categorical_crossentropy',optimizer=sgd,metrics=['accuracy'])"
   ]
  },
  {
   "cell_type": "code",
   "execution_count": null,
   "metadata": {},
   "outputs": [],
   "source": [
    "model.fit(X_train, y_train, epochs=3, validation_data=(X_test, y_test))"
   ]
  },
  {
   "cell_type": "code",
   "execution_count": null,
   "metadata": {},
   "outputs": [],
   "source": [
    "test_image = []\n",
    "i = 0\n",
    "fig, ax = plt.subplots(1, 10, figsize = (50,50 ))\n",
    "\n",
    "files = os.listdir('/home/jupyter/Images')\n",
    "nums = np.random.randint(low=1, high=len(files), size=10)\n",
    "for i in range(10):\n",
    "    print ('Image number:',i)\n",
    "    img = cv2.imread('/home/jupyter/Images/'+files[nums[i]])\n",
    "    img = color.rgb2gray(img)\n",
    "    img = cv2.resize(img,(224,224))\n",
    "    test_image.append(img)\n",
    "    ax[i].imshow(img,cmap = 'gray')\n",
    "    plt.show"
   ]
  },
  {
   "cell_type": "code",
   "execution_count": null,
   "metadata": {},
   "outputs": [],
   "source": [
    "test = []\n",
    "\n",
    "for img in test_image:\n",
    "    test.append(img)\n",
    "\n",
    "test = np.array(test).reshape(-1,224,224,1)\n",
    "prediction = model.predict(test)"
   ]
  },
  {
   "cell_type": "code",
   "execution_count": null,
   "metadata": {},
   "outputs": [],
   "source": [
    "prediction[0]"
   ]
  },
  {
   "cell_type": "code",
   "execution_count": null,
   "metadata": {},
   "outputs": [],
   "source": [
    "i = 0\n",
    "fig, ax = plt.subplots(10, 1, figsize = (50,50 ))\n",
    "\n",
    "for i in range(10):\n",
    "    ax[i].imshow(test[i].squeeze(),cmap = 'gray')\n",
    "    predicted_class = 'C'+str(np.where(prediction[i] == np.amax(prediction[i]))[0][0])\n",
    "    ax[i].set_title(tags[predicted_class])\n",
    "    plt.show"
   ]
  },
  {
   "cell_type": "code",
   "execution_count": null,
   "metadata": {},
   "outputs": [],
   "source": [
    "tags = { \"C0\": \"safe driving\",\n",
    "\"C1\": \"texting - right\",\n",
    "\"C2\": \"talking on the phone - right\",\n",
    "\"C3\": \"texting - left\",\n",
    "\"C4\": \"talking on the phone - left\",\n",
    "\"C5\": \"operating the radio\",\n",
    "\"C6\": \"drinking\",\n",
    "\"C7\": \"reaching behind\",\n",
    "\"C8\": \"hair and makeup\",\n",
    "\"C9\": \"talking to passenger\" }"
   ]
  },
  {
   "cell_type": "code",
   "execution_count": null,
   "metadata": {},
   "outputs": [],
   "source": [
    "tags[\"c1\"]"
   ]
  }
 ],
 "metadata": {
  "kernelspec": {
   "display_name": "Python 3",
   "language": "python",
   "name": "python3"
  },
  "language_info": {
   "codemirror_mode": {
    "name": "ipython",
    "version": 3
   },
   "file_extension": ".py",
   "mimetype": "text/x-python",
   "name": "python",
   "nbconvert_exporter": "python",
   "pygments_lexer": "ipython3",
   "version": "3.7.4"
  }
 },
 "nbformat": 4,
 "nbformat_minor": 2
}
